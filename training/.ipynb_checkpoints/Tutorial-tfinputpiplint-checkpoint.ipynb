{
 "cells": [
  {
   "cell_type": "code",
   "execution_count": 74,
   "id": "663accaf",
   "metadata": {},
   "outputs": [],
   "source": [
    "import tensorflow as tf\n",
    "from tensorflow.keras import models,layers\n",
    "import matplotlib.pyplot as plt"
   ]
  },
  {
   "cell_type": "code",
   "execution_count": 75,
   "id": "455ce689",
   "metadata": {},
   "outputs": [],
   "source": [
    "daily_sales_numbers = [ 21,22,-108,31,-1,32,34,31]"
   ]
  },
  {
   "cell_type": "code",
   "execution_count": 76,
   "id": "56aa0b59",
   "metadata": {},
   "outputs": [
    {
     "data": {
      "text/plain": [
       "<_TensorSliceDataset element_spec=TensorSpec(shape=(), dtype=tf.int32, name=None)>"
      ]
     },
     "execution_count": 76,
     "metadata": {},
     "output_type": "execute_result"
    }
   ],
   "source": [
    "tf_dataset = tf.data.Dataset.from_tensor_slices(daily_sales_numbers)\n",
    "tf_dataset"
   ]
  },
  {
   "cell_type": "code",
   "execution_count": 77,
   "id": "6e13c316",
   "metadata": {},
   "outputs": [
    {
     "name": "stdout",
     "output_type": "stream",
     "text": [
      "21\n",
      "22\n",
      "-108\n",
      "31\n",
      "-1\n",
      "32\n",
      "34\n",
      "31\n"
     ]
    }
   ],
   "source": [
    "for sales in tf_dataset:\n",
    "    print(sales.numpy())"
   ]
  },
  {
   "cell_type": "code",
   "execution_count": 78,
   "id": "fc182d40",
   "metadata": {},
   "outputs": [
    {
     "name": "stdout",
     "output_type": "stream",
     "text": [
      "21\n",
      "22\n",
      "-108\n"
     ]
    }
   ],
   "source": [
    "for sales in tf_dataset.take(3):\n",
    "    print(sales.numpy())"
   ]
  },
  {
   "cell_type": "code",
   "execution_count": 79,
   "id": "3aca50df",
   "metadata": {},
   "outputs": [
    {
     "name": "stdout",
     "output_type": "stream",
     "text": [
      "21\n",
      "22\n",
      "31\n",
      "32\n",
      "34\n",
      "31\n"
     ]
    }
   ],
   "source": [
    "tf_dataset = tf_dataset.filter(lambda x: x>0)\n",
    "for sales in tf_dataset:\n",
    "    print(sales.numpy())"
   ]
  },
  {
   "cell_type": "code",
   "execution_count": 80,
   "id": "6e07beaf",
   "metadata": {},
   "outputs": [
    {
     "name": "stdout",
     "output_type": "stream",
     "text": [
      "1512\n",
      "1584\n",
      "2232\n",
      "2304\n",
      "2448\n",
      "2232\n"
     ]
    }
   ],
   "source": [
    "tf_dataset = tf_dataset.map(lambda x: x*72)\n",
    "for sales in tf_dataset:\n",
    "    print(sales.numpy())"
   ]
  },
  {
   "cell_type": "code",
   "execution_count": 81,
   "id": "55e37474",
   "metadata": {},
   "outputs": [
    {
     "name": "stdout",
     "output_type": "stream",
     "text": [
      "1512\n",
      "1584\n",
      "2232\n",
      "2232\n",
      "2304\n",
      "2448\n"
     ]
    }
   ],
   "source": [
    "tf_dataset = tf_dataset.shuffle(3)\n",
    "for sales in tf_dataset:\n",
    "    print(sales.numpy())"
   ]
  },
  {
   "cell_type": "code",
   "execution_count": 82,
   "id": "b911f43a",
   "metadata": {},
   "outputs": [
    {
     "name": "stdout",
     "output_type": "stream",
     "text": [
      "[2232 2304 1584 2448]\n",
      "[1512 2232]\n"
     ]
    }
   ],
   "source": [
    "for sales in tf_dataset.batch(4):\n",
    "    print(sales.numpy())"
   ]
  },
  {
   "cell_type": "code",
   "execution_count": 83,
   "id": "734e71b4",
   "metadata": {},
   "outputs": [
    {
     "name": "stdout",
     "output_type": "stream",
     "text": [
      "b'PlantVillage\\\\Potato___Early_blight\\\\001187a0-57ab-4329-baff-e7246a9edeb0___RS_Early.B 8178.JPG'\n",
      "b'PlantVillage\\\\Potato___Early_blight\\\\002a55fb-7a3d-4a3a-aca8-ce2d5ebc6925___RS_Early.B 8170.JPG'\n",
      "b'PlantVillage\\\\Potato___Early_blight\\\\009c8c31-f22d-4ffd-8f16-189c6f06c577___RS_Early.B 7885.JPG'\n",
      "b'PlantVillage\\\\Potato___Early_blight\\\\00d8f10f-5038-4e0f-bb58-0b885ddc0cc5___RS_Early.B 8722.JPG'\n",
      "b'PlantVillage\\\\Potato___Early_blight\\\\0182e991-97f0-4805-a1f7-6e1b4306d518___RS_Early.B 7015.JPG'\n"
     ]
    }
   ],
   "source": [
    "images_ds = tf.data.Dataset.list_files('PlantVillage/*/*',shuffle=False)\n",
    "for file in images_ds.take(5):\n",
    "    print(file.numpy())"
   ]
  },
  {
   "cell_type": "code",
   "execution_count": 84,
   "id": "626238b1",
   "metadata": {},
   "outputs": [
    {
     "name": "stdout",
     "output_type": "stream",
     "text": [
      "b'PlantVillage\\\\Potato___Late_blight\\\\33551627-5824-42b9-9547-4df44590fee1___RS_LB 4848.JPG'\n",
      "b'PlantVillage\\\\Potato___Late_blight\\\\d1ae329b-19bc-40c3-afb1-404ecf3c98ee___RS_LB 2613.JPG'\n",
      "b'PlantVillage\\\\Potato___Late_blight\\\\b2492a9e-c038-48a7-8524-8f0aca7dc870___RS_LB 4291.JPG'\n",
      "b'PlantVillage\\\\Potato___Late_blight\\\\29dafc9e-eb0f-4f3b-99ab-a617b8163e50___RS_LB 3052.JPG'\n",
      "b'PlantVillage\\\\Potato___Early_blight\\\\c3bf3f15-b1ae-4e36-97a4-f341879db6ae___RS_Early.B 8263.JPG'\n"
     ]
    }
   ],
   "source": [
    "images_ds = images_ds.shuffle(2000)\n",
    "for file in images_ds.take(5):\n",
    "    print(file.numpy())"
   ]
  },
  {
   "cell_type": "code",
   "execution_count": 85,
   "id": "29c0ef38",
   "metadata": {},
   "outputs": [
    {
     "data": {
      "text/plain": [
       "2152"
      ]
     },
     "execution_count": 85,
     "metadata": {},
     "output_type": "execute_result"
    }
   ],
   "source": [
    "image_count = len(images_ds)\n",
    "image_count"
   ]
  },
  {
   "cell_type": "code",
   "execution_count": 86,
   "id": "7ecdb003",
   "metadata": {},
   "outputs": [],
   "source": [
    "train_size = int(image_count*0.8)\n",
    "train_ds = images_ds.take(train_size)\n",
    "test_ds = images_ds.skip(train_size)"
   ]
  },
  {
   "cell_type": "code",
   "execution_count": 87,
   "id": "58d46abc",
   "metadata": {},
   "outputs": [
    {
     "data": {
      "text/plain": [
       "1721"
      ]
     },
     "execution_count": 87,
     "metadata": {},
     "output_type": "execute_result"
    }
   ],
   "source": [
    "len(train_ds)\n"
   ]
  },
  {
   "cell_type": "code",
   "execution_count": 88,
   "id": "a18d2b92",
   "metadata": {},
   "outputs": [
    {
     "data": {
      "text/plain": [
       "431"
      ]
     },
     "execution_count": 88,
     "metadata": {},
     "output_type": "execute_result"
    }
   ],
   "source": [
    "len(test_ds)"
   ]
  },
  {
   "cell_type": "code",
   "execution_count": 89,
   "id": "291a2a21",
   "metadata": {},
   "outputs": [
    {
     "data": {
      "text/plain": [
       "'Potato___Early_blight'"
      ]
     },
     "execution_count": 89,
     "metadata": {},
     "output_type": "execute_result"
    }
   ],
   "source": [
    "s = 'PlantVillage\\\\Potato___Early_blight\\\\eb4fbc2b-c1a4-473f-a4e1-71ba04a7133c___RS_Early.B 7716.JPG'\n",
    "s.split(\"\\\\\")[-2]"
   ]
  },
  {
   "cell_type": "code",
   "execution_count": 90,
   "id": "d9e2675a",
   "metadata": {},
   "outputs": [],
   "source": [
    "def get_label(file_path):\n",
    "    import os\n",
    "    return tf.strings.split(file_path, os.path.sep)[-2]"
   ]
  },
  {
   "cell_type": "code",
   "execution_count": 91,
   "id": "afaa8d88",
   "metadata": {},
   "outputs": [],
   "source": [
    "def process_image(file_path):\n",
    "    label = get_label(file_path)\n",
    "    img = tf.io.read_file(file_path)\n",
    "    img = tf.image.decode_jpeg(img)\n",
    "    return img,label"
   ]
  },
  {
   "cell_type": "code",
   "execution_count": 93,
   "id": "08627fc2",
   "metadata": {},
   "outputs": [
    {
     "name": "stdout",
     "output_type": "stream",
     "text": [
      "tf.Tensor(\n",
      "[[[181 163 161]\n",
      "  [190 172 170]\n",
      "  [186 168 166]\n",
      "  ...\n",
      "  [179 161 161]\n",
      "  [186 168 168]\n",
      "  [185 167 167]]\n",
      "\n",
      " [[178 160 158]\n",
      "  [188 170 168]\n",
      "  [180 162 160]\n",
      "  ...\n",
      "  [183 165 165]\n",
      "  [187 169 169]\n",
      "  [188 170 170]]\n",
      "\n",
      " [[163 145 143]\n",
      "  [181 163 161]\n",
      "  [182 164 162]\n",
      "  ...\n",
      "  [185 167 167]\n",
      "  [184 166 166]\n",
      "  [187 169 169]]\n",
      "\n",
      " ...\n",
      "\n",
      " [[140 112 109]\n",
      "  [142 114 111]\n",
      "  [159 131 128]\n",
      "  ...\n",
      "  [148 118 116]\n",
      "  [130 100  98]\n",
      "  [137 107 105]]\n",
      "\n",
      " [[150 122 119]\n",
      "  [142 114 111]\n",
      "  [155 127 124]\n",
      "  ...\n",
      "  [158 128 126]\n",
      "  [131 101  99]\n",
      "  [150 120 118]]\n",
      "\n",
      " [[158 130 127]\n",
      "  [139 111 108]\n",
      "  [148 120 117]\n",
      "  ...\n",
      "  [156 126 124]\n",
      "  [129  99  97]\n",
      "  [162 132 130]]], shape=(256, 256, 3), dtype=uint8)\n",
      "tf.Tensor(\n",
      "[[[108 109 127]\n",
      "  [135 136 154]\n",
      "  [120 121 139]\n",
      "  ...\n",
      "  [115 117 130]\n",
      "  [113 115 128]\n",
      "  [115 117 130]]\n",
      "\n",
      " [[137 138 156]\n",
      "  [111 112 130]\n",
      "  [118 119 137]\n",
      "  ...\n",
      "  [108 110 123]\n",
      "  [112 114 127]\n",
      "  [117 119 132]]\n",
      "\n",
      " [[123 124 142]\n",
      "  [102 103 121]\n",
      "  [119 120 138]\n",
      "  ...\n",
      "  [109 111 124]\n",
      "  [114 116 129]\n",
      "  [117 119 132]]\n",
      "\n",
      " ...\n",
      "\n",
      " [[158 156 167]\n",
      "  [166 164 175]\n",
      "  [172 170 181]\n",
      "  ...\n",
      "  [122 121 129]\n",
      "  [122 121 129]\n",
      "  [119 118 126]]\n",
      "\n",
      " [[168 166 177]\n",
      "  [171 169 180]\n",
      "  [170 168 179]\n",
      "  ...\n",
      "  [132 131 139]\n",
      "  [139 138 146]\n",
      "  [130 129 137]]\n",
      "\n",
      " [[166 164 175]\n",
      "  [164 162 173]\n",
      "  [160 158 169]\n",
      "  ...\n",
      "  [106 105 113]\n",
      "  [111 110 118]\n",
      "  [129 128 136]]], shape=(256, 256, 3), dtype=uint8)\n",
      "tf.Tensor(\n",
      "[[[167 169 181]\n",
      "  [189 191 203]\n",
      "  [170 172 184]\n",
      "  ...\n",
      "  [126 122 137]\n",
      "  [128 124 139]\n",
      "  [107 103 118]]\n",
      "\n",
      " [[197 199 211]\n",
      "  [172 174 186]\n",
      "  [177 179 191]\n",
      "  ...\n",
      "  [ 93  89 104]\n",
      "  [103  99 114]\n",
      "  [153 149 164]]\n",
      "\n",
      " [[203 205 217]\n",
      "  [162 164 176]\n",
      "  [171 173 185]\n",
      "  ...\n",
      "  [159 155 170]\n",
      "  [134 130 145]\n",
      "  [145 141 156]]\n",
      "\n",
      " ...\n",
      "\n",
      " [[210 208 222]\n",
      "  [236 234 248]\n",
      "  [228 226 240]\n",
      "  ...\n",
      "  [109 105 119]\n",
      "  [125 121 135]\n",
      "  [ 84  80  94]]\n",
      "\n",
      " [[171 169 183]\n",
      "  [167 165 179]\n",
      "  [172 170 184]\n",
      "  ...\n",
      "  [126 122 136]\n",
      "  [137 133 147]\n",
      "  [157 153 167]]\n",
      "\n",
      " [[175 173 187]\n",
      "  [181 179 193]\n",
      "  [142 140 154]\n",
      "  ...\n",
      "  [128 124 138]\n",
      "  [147 143 157]\n",
      "  [134 130 144]]], shape=(256, 256, 3), dtype=uint8)\n"
     ]
    }
   ],
   "source": [
    "train_ds = train_ds.map(process_image)\n",
    "for img,label in train_ds.take(3):\n",
    "    print(img)"
   ]
  },
  {
   "cell_type": "code",
   "execution_count": 94,
   "id": "6bfa7f78",
   "metadata": {},
   "outputs": [],
   "source": [
    "def scale(image,label):\n",
    "    return image/255, label"
   ]
  },
  {
   "cell_type": "code",
   "execution_count": 96,
   "id": "8b84a116",
   "metadata": {},
   "outputs": [
    {
     "name": "stdout",
     "output_type": "stream",
     "text": [
      "*** IMAGE  [0.5803922 0.5372549 0.5686275]\n",
      "*** LABEL  b'Potato___Late_blight'\n",
      "*** IMAGE  [0.6392157 0.6313726 0.6862745]\n",
      "*** LABEL  b'Potato___Early_blight'\n",
      "*** IMAGE  [0.7529412  0.74509805 0.79607844]\n",
      "*** LABEL  b'Potato___Early_blight'\n",
      "*** IMAGE  [0.53333336 0.5137255  0.5372549 ]\n",
      "*** LABEL  b'Potato___Late_blight'\n",
      "*** IMAGE  [0.76862746 0.75686276 0.78431374]\n",
      "*** LABEL  b'Potato___Early_blight'\n"
     ]
    }
   ],
   "source": [
    "train_ds = train_ds.map(scale)\n",
    "for image,label in train_ds.take(5):\n",
    "    print(\"*** IMAGE \", image.numpy()[0][0])\n",
    "    print(\"*** LABEL \",label.numpy())"
   ]
  },
  {
   "cell_type": "code",
   "execution_count": null,
   "id": "a7eebba9",
   "metadata": {},
   "outputs": [],
   "source": []
  }
 ],
 "metadata": {
  "kernelspec": {
   "display_name": "Python 3 (ipykernel)",
   "language": "python",
   "name": "python3"
  },
  "language_info": {
   "codemirror_mode": {
    "name": "ipython",
    "version": 3
   },
   "file_extension": ".py",
   "mimetype": "text/x-python",
   "name": "python",
   "nbconvert_exporter": "python",
   "pygments_lexer": "ipython3",
   "version": "3.11.2"
  }
 },
 "nbformat": 4,
 "nbformat_minor": 5
}
